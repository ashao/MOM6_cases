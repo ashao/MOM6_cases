{
 "cells": [
  {
   "cell_type": "code",
   "execution_count": 1,
   "metadata": {},
   "outputs": [],
   "source": [
    "import xarray as xr\n",
    "import matplotlib.pyplot as plt\n",
    "import numpy as np\n",
    "%matplotlib inline"
   ]
  },
  {
   "cell_type": "code",
   "execution_count": 2,
   "metadata": {},
   "outputs": [
    {
     "data": {
      "text/plain": [
       "<xarray.Dataset>\n",
       "Dimensions:  (depth: 102, lat: 180, lon: 360, time: 1)\n",
       "Coordinates:\n",
       "  * depth    (depth) float32 0.0 5.0 10.0 15.0 20.0 25.0 30.0 35.0 40.0 45.0 ...\n",
       "  * time     (time) float32 4326.0\n",
       "  * lon      (lon) float32 -179.5 -178.5 -177.5 -176.5 -175.5 -174.5 -173.5 ...\n",
       "  * lat      (lat) float32 -89.5 -88.5 -87.5 -86.5 -85.5 -84.5 -83.5 -82.5 ...\n",
       "Data variables:\n",
       "    t_an     (time, depth, lat, lon) float32 nan nan nan nan nan nan nan nan ...\n",
       "    s_an     (time, depth, lat, lon) float32 nan nan nan nan nan nan nan nan ...\n",
       "Attributes:\n",
       "    Conventions:                     CF-1.6, ACDD-1.3\n",
       "    title:                           World Ocean Atlas 2018 : salinity Annual...\n",
       "    summary:                         PRERELEASE Climatological mean salinity ...\n",
       "    references:                      Zweng, M. M, J. R. Reagan, D. Seidov, T....\n",
       "    institution:                     National Centers for Environmental Infor...\n",
       "    comment:                         global climatology as part of the World ...\n",
       "    id:                              woa18_decav_s00_01.nc\n",
       "    naming_authority:                gov.noaa.ncei\n",
       "    sea_name:                        World-Wide Distribution\n",
       "    time_coverage_start:             1955-01-01\n",
       "    time_coverage_end:               2017-12-31\n",
       "    time_coverage_duration:          P63Y\n",
       "    time_coverage_resolution:        P01Y\n",
       "    geospatial_lat_min:              -90.0\n",
       "    geospatial_lat_max:              90.0\n",
       "    geospatial_lon_min:              -180.0\n",
       "    geospatial_lon_max:              180.0\n",
       "    geospatial_vertical_min:         0.0\n",
       "    geospatial_vertical_max:         5500.0\n",
       "    geospatial_lat_units:            degrees_north\n",
       "    geospatial_lat_resolution:       1.00 degrees\n",
       "    geospatial_lon_units:            degrees_east\n",
       "    geospatial_lon_resolution:       1.00 degrees\n",
       "    geospatial_vertical_units:       m\n",
       "    geospatial_vertical_resolution:  SPECIAL\n",
       "    geospatial_vertical_positive:    down\n",
       "    creator_name:                    Ocean Climate Laboratory\n",
       "    creator_email:                   NCEI.info@noaa.gov\n",
       "    creator_url:                     http://www.ncei.noaa.gov\n",
       "    creator_type:                    group\n",
       "    creator_institution:             National Centers for Environmental Infor...\n",
       "    project:                         World Ocean Atlas Project\n",
       "    processing_level:                processed\n",
       "    keywords:                        Oceans< Ocean Salinity >\n",
       "    keywords_vocabulary:             ISO 19115\n",
       "    standard_name_vocabulary:        CF Standard Name Table v49\n",
       "    contributor_name:                Ocean Climate Laboratory\n",
       "    contributor_role:                Calculation of climatologies\n",
       "    cdm_data_type:                   Grid\n",
       "    publisher_name:                  National Centers for Environmental Infor...\n",
       "    publisher_institution:           National Centers for Environmental Infor...\n",
       "    publisher_type:                  institution\n",
       "    publisher_url:                   http://www.ncei.noaa.gov/\n",
       "    publisher_email:                 NCEI.info@noaa.gov\n",
       "    nodc_template_version:           NODC_NetCDF_Grid_Template_v2.0\n",
       "    license:                         These data are openly available to the p...\n",
       "    metadata_link:                   http://www.nodc.noaa.gov/OC5/WOA18/pr_wo...\n",
       "    date_created:                    2018-02-19 \n",
       "    date_modified:                   2018-02-19 "
      ]
     },
     "execution_count": 2,
     "metadata": {},
     "output_type": "execute_result"
    }
   ],
   "source": [
    "datapath = '/home/ashao/data/'\n",
    "tsdata = xr.open_mfdataset([ datapath+'woa18_decav_s00_01.nc', datapath+'woa18_decav_t00_01.nc'],decode_times=False)[ ['t_an','s_an']]\n",
    "tsdata.load()"
   ]
  },
  {
   "cell_type": "code",
   "execution_count": 3,
   "metadata": {},
   "outputs": [
    {
     "data": {
      "text/plain": [
       "[<matplotlib.lines.Line2D at 0x7f944c53e5c0>]"
      ]
     },
     "execution_count": 3,
     "metadata": {},
     "output_type": "execute_result"
    },
    {
     "data": {
      "image/png": "[encoded data removed]",
      "text/plain": [
       "<matplotlib.figure.Figure at 0x7f944e015550>"
      ]
     },
     "metadata": {},
     "output_type": "display_data"
    }
   ],
   "source": [
    "tsdata.lon.plot()"
   ]
  },
  {
   "cell_type": "code",
   "execution_count": 4,
   "metadata": {},
   "outputs": [
    {
     "data": {
      "text/plain": [
       "<xarray.Dataset>\n",
       "Dimensions:  (depth: 102, lat: 180, lon: 360, time: 1)\n",
       "Coordinates:\n",
       "  * depth    (depth) float32 0.0 5.0 10.0 15.0 20.0 25.0 30.0 35.0 40.0 45.0 ...\n",
       "  * time     (time) float32 4326.0\n",
       "  * lon      (lon) float32 -179.5 -178.5 -177.5 -176.5 -175.5 -174.5 -173.5 ...\n",
       "  * lat      (lat) float32 -89.5 -88.5 -87.5 -86.5 -85.5 -84.5 -83.5 -82.5 ...\n",
       "Data variables:\n",
       "    t_an     (time, depth, lat, lon) float32 nan nan nan nan nan nan nan nan ...\n",
       "    s_an     (time, depth, lat, lon) float32 nan nan nan nan nan nan nan nan ...\n",
       "Attributes:\n",
       "    Conventions:                     CF-1.6, ACDD-1.3\n",
       "    title:                           World Ocean Atlas 2018 : salinity Annual...\n",
       "    summary:                         PRERELEASE Climatological mean salinity ...\n",
       "    references:                      Zweng, M. M, J. R. Reagan, D. Seidov, T....\n",
       "    institution:                     National Centers for Environmental Infor...\n",
       "    comment:                         global climatology as part of the World ...\n",
       "    id:                              woa18_decav_s00_01.nc\n",
       "    naming_authority:                gov.noaa.ncei\n",
       "    sea_name:                        World-Wide Distribution\n",
       "    time_coverage_start:             1955-01-01\n",
       "    time_coverage_end:               2017-12-31\n",
       "    time_coverage_duration:          P63Y\n",
       "    time_coverage_resolution:        P01Y\n",
       "    geospatial_lat_min:              -90.0\n",
       "    geospatial_lat_max:              90.0\n",
       "    geospatial_lon_min:              -180.0\n",
       "    geospatial_lon_max:              180.0\n",
       "    geospatial_vertical_min:         0.0\n",
       "    geospatial_vertical_max:         5500.0\n",
       "    geospatial_lat_units:            degrees_north\n",
       "    geospatial_lat_resolution:       1.00 degrees\n",
       "    geospatial_lon_units:            degrees_east\n",
       "    geospatial_lon_resolution:       1.00 degrees\n",
       "    geospatial_vertical_units:       m\n",
       "    geospatial_vertical_resolution:  SPECIAL\n",
       "    geospatial_vertical_positive:    down\n",
       "    creator_name:                    Ocean Climate Laboratory\n",
       "    creator_email:                   NCEI.info@noaa.gov\n",
       "    creator_url:                     http://www.ncei.noaa.gov\n",
       "    creator_type:                    group\n",
       "    creator_institution:             National Centers for Environmental Infor...\n",
       "    project:                         World Ocean Atlas Project\n",
       "    processing_level:                processed\n",
       "    keywords:                        Oceans< Ocean Salinity >\n",
       "    keywords_vocabulary:             ISO 19115\n",
       "    standard_name_vocabulary:        CF Standard Name Table v49\n",
       "    contributor_name:                Ocean Climate Laboratory\n",
       "    contributor_role:                Calculation of climatologies\n",
       "    cdm_data_type:                   Grid\n",
       "    publisher_name:                  National Centers for Environmental Infor...\n",
       "    publisher_institution:           National Centers for Environmental Infor...\n",
       "    publisher_type:                  institution\n",
       "    publisher_url:                   http://www.ncei.noaa.gov/\n",
       "    publisher_email:                 NCEI.info@noaa.gov\n",
       "    nodc_template_version:           NODC_NetCDF_Grid_Template_v2.0\n",
       "    license:                         These data are openly available to the p...\n",
       "    metadata_link:                   http://www.nodc.noaa.gov/OC5/WOA18/pr_wo...\n",
       "    date_created:                    2018-02-19 \n",
       "    date_modified:                   2018-02-19 "
      ]
     },
     "execution_count": 4,
     "metadata": {},
     "output_type": "execute_result"
    }
   ],
   "source": [
    "tsdata"
   ]
  },
  {
   "cell_type": "code",
   "execution_count": 5,
   "metadata": {},
   "outputs": [
    {
     "name": "stderr",
     "output_type": "stream",
     "text": [
      "/home/ashao/miniconda3/lib/python3.6/site-packages/numpy/ma/core.py:6385: MaskedArrayFutureWarning: In the future the default for ma.minimum.reduce will be axis=0, not the current None, to match np.minimum.reduce. Explicitly pass 0 or None to silence this warning.\n",
      "  return self.reduce(a)\n",
      "/home/ashao/miniconda3/lib/python3.6/site-packages/numpy/ma/core.py:6385: MaskedArrayFutureWarning: In the future the default for ma.maximum.reduce will be axis=0, not the current None, to match np.maximum.reduce. Explicitly pass 0 or None to silence this warning.\n",
      "  return self.reduce(a)\n"
     ]
    },
    {
     "data": {
      "image/png": "[encoded data removed]",
      "text/plain": [
       "<matplotlib.figure.Figure at 0x7f944c4e0470>"
      ]
     },
     "metadata": {},
     "output_type": "display_data"
    }
   ],
   "source": [
    "tsdata['t_an'][0,:,:,0:20].mean('lon').plot.contourf(levels=np.linspace(0,30,21));\n",
    "plt.xlim(-40,40)\n",
    "plt.ylim(0,1000)\n",
    "plt.gca().invert_yaxis()\n"
   ]
  },
  {
   "cell_type": "code",
   "execution_count": 6,
   "metadata": {},
   "outputs": [],
   "source": [
    "merid_t = tsdata['t_an'][0,:,:,0:20].mean('lon')\n",
    "merid_s = tsdata['s_an'][0,:,:,0:20].mean('lon')"
   ]
  },
  {
   "cell_type": "code",
   "execution_count": 7,
   "metadata": {},
   "outputs": [],
   "source": [
    "for lonidx in range(0,len(tsdata.lon)):\n",
    "    tsdata['t_an'][:,:,:,lonidx] = merid_t.values\n",
    "    tsdata['s_an'][:,:,:,lonidx] = merid_s.values"
   ]
  },
  {
   "cell_type": "code",
   "execution_count": 38,
   "metadata": {},
   "outputs": [],
   "source": [
    "latidx_s = 40\n",
    "latidx_n = 140\n",
    "out = xr.merge( [tsdata['t_an'][:,:,latidx_s:latidx_n,0:20], tsdata['s_an'][:,:,latidx_s:latidx_n,0:4] ] )\n",
    "out = xr.merge( [tsdata['t_an'], tsdata['s_an']])"
   ]
  },
  {
   "cell_type": "code",
   "execution_count": 39,
   "metadata": {},
   "outputs": [
    {
     "data": {
      "text/plain": [
       "<xarray.Dataset>\n",
       "Dimensions:  (depth: 102, lat: 180, lon: 360, time: 1)\n",
       "Coordinates:\n",
       "  * depth    (depth) float32 0.0 5.0 10.0 15.0 20.0 25.0 30.0 35.0 40.0 45.0 ...\n",
       "  * time     (time) float32 4326.0\n",
       "  * lon      (lon) float32 -179.5 -178.5 -177.5 -176.5 -175.5 -174.5 -173.5 ...\n",
       "  * lat      (lat) float32 -89.5 -88.5 -87.5 -86.5 -85.5 -84.5 -83.5 -82.5 ...\n",
       "Data variables:\n",
       "    t_an     (time, depth, lat, lon) float32 nan nan nan nan nan nan nan nan ...\n",
       "    s_an     (time, depth, lat, lon) float32 nan nan nan nan nan nan nan nan ..."
      ]
     },
     "execution_count": 39,
     "metadata": {},
     "output_type": "execute_result"
    }
   ],
   "source": [
    "out"
   ]
  },
  {
   "cell_type": "code",
   "execution_count": 40,
   "metadata": {},
   "outputs": [
    {
     "name": "stderr",
     "output_type": "stream",
     "text": [
      "/home/ashao/miniconda3/lib/python3.6/site-packages/dask/utils.py:1010: UserWarning: Deprecated, see dask.base.get_scheduler instead\n",
      "  warnings.warn(\"Deprecated, see dask.base.get_scheduler instead\")\n"
     ]
    }
   ],
   "source": [
    "out.to_netcdf('INPUT/pacific_meridional_temp_salt.nc')"
   ]
  },
  {
   "cell_type": "code",
   "execution_count": null,
   "metadata": {},
   "outputs": [],
   "source": [
    "out.to_netcdf?"
   ]
  },
  {
   "cell_type": "code",
   "execution_count": null,
   "metadata": {},
   "outputs": [],
   "source": []
  }
 ],
 "metadata": {
  "kernelspec": {
   "display_name": "Python 3",
   "language": "python",
   "name": "python3"
  },
  "language_info": {
   "codemirror_mode": {
    "name": "ipython",
    "version": 3
   },
   "file_extension": ".py",
   "mimetype": "text/x-python",
   "name": "python",
   "nbconvert_exporter": "python",
   "pygments_lexer": "ipython3",
   "version": "3.6.0"
  }
 },
 "nbformat": 4,
 "nbformat_minor": 2
}
