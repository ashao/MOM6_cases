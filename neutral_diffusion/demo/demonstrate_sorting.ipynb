{
 "cells": [
  {
   "cell_type": "code",
   "execution_count": 1,
   "metadata": {},
   "outputs": [],
   "source": [
    "import numpy as np\n",
    "import matplotlib.pyplot as plt\n",
    "%matplotlib inline\n",
    "import pandas as pd"
   ]
  },
  {
   "cell_type": "code",
   "execution_count": 2,
   "metadata": {},
   "outputs": [],
   "source": [
    "drds=0.8\n",
    "drdt=-1"
   ]
  },
  {
   "cell_type": "code",
   "execution_count": 4,
   "metadata": {},
   "outputs": [],
   "source": [
    "# Initialize variables\n",
    "nk = 3\n",
    "ns = 3*4\n",
    "Tl = np.zeros( (nk,2) )\n",
    "Tr = np.zeros( (nk,2) )\n",
    "zl = np.zeros( (nk,2) )\n",
    "zr = np.zeros( (nk,2) )\n",
    "hl = np.ones( nk )*10\n",
    "hr = np.ones( nk )*10\n",
    "\n",
    "zl[0,0] = 0\n",
    "zr[0,0] = 0\n",
    "zl[0,1] = hl[0]\n",
    "zr[0,1] = hr[0]\n",
    "\n",
    "for k in range(1,nk):\n",
    "  zl[k,0] = zl[k-1,1]\n",
    "  zl[k,1] = zl[k,0] + hl[k]\n",
    "  zr[k,0] = zr[k-1,1]\n",
    "  zr[k,1] = zr[k,0] + hr[k]"
   ]
  },
  {
   "cell_type": "code",
   "execution_count": 258,
   "metadata": {},
   "outputs": [],
   "source": [
    "def calc_drho( T1, drdt1, T2, drdt2 ):\n",
    "  if T1 == T2:\n",
    "    return 0\n",
    "  else:\n",
    "    return 0.5*(drdt1 + drdt2)*( T1 - T2 )\n",
    "def find_pos(drhoneg, drhopos):\n",
    "  if drhopos - drhoneg > 0:\n",
    "    pos = -drhoneg/(drhopos-drhoneg)\n",
    "  elif drhopos-drhoneg  == 0.:\n",
    "    if drhoneg > 0.:\n",
    "      pos = 0.\n",
    "    else:\n",
    "      pos = 1.\n",
    "  if (pos < 0) or (pos > 1):\n",
    "    print(\"SOMETHING WENT WRONG\",pos)\n",
    "  return pos\n",
    "def abs_pos(zl,kl,pos):\n",
    "  kl = np.int(kl)\n",
    "  return zl[kl,0]*(1-pos) + zl[kl,1]*pos\n",
    "def mark_unstable(Tl,drdt):\n",
    "  nk = Tl.shape[0]\n",
    "  stable = np.ones(nk,dtype=bool)\n",
    "  for k in range(0,nk):\n",
    "    if drdt*(Tl[k,1]-Tl[k,0])<0:\n",
    "      stable[k] = False\n",
    "  return stable\n",
    "def increment_interface(kl,ki,searching_this_column,searching_other_column):\n",
    "  reached_bottom = False\n",
    "  if (ki == 1):\n",
    "      if (kl < nk-1):\n",
    "          kl = kl + 1          \n",
    "      else:\n",
    "        reached_bottom = True\n",
    "        searching_this_column  = False\n",
    "        searching_other_column = True\n",
    "  else:\n",
    "      ki = 1\n",
    "  return kl, ki, searching_this_column, searching_other_column, reached_bottom\n",
    "\n",
    "def set_position(drhotop, drhobot, ki_other, ksurf):\n",
    "  if drhotop > 0. or ksurf == 0:\n",
    "    pos = 0.\n",
    "  elif drhotop > drhobot:\n",
    "    pos = 1.\n",
    "  elif drhotop < 0. and drhobot < 0.:\n",
    "    pos = 1.\n",
    "  elif drhotop == 0. and drhobot == 0.:\n",
    "    pos = ki_other\n",
    "  else:\n",
    "    pos = find_pos(drhotop,drhobot)\n",
    "  return pos"
   ]
  },
  {
   "cell_type": "code",
   "execution_count": 264,
   "metadata": {},
   "outputs": [],
   "source": [
    "def sorting_algorithm(Tl, Tr, zl, zr, drdt, verbose = False):\n",
    "    drdp = 1.e-5\n",
    "    ki_left = 0 ; ki_right = 0\n",
    "    kl_left = 0 ; kl_right = 0\n",
    "    reached_bottom = False\n",
    "    searching_left_column  = True\n",
    "    searching_right_column = True\n",
    "    PoL = np.zeros( ns )\n",
    "    PoR = np.zeros( ns )\n",
    "    KoL = np.zeros( ns )\n",
    "    KoR = np.zeros( ns )\n",
    "    # Label stable/unstable layers\n",
    "    stable_left  = mark_unstable(Tl,drdt)\n",
    "    stable_right = mark_unstable(Tr,drdt)\n",
    "\n",
    "    # For the first surface we just need to figure out which top interface is lighter\n",
    "    drho = calc_drho(Tl[0,0], drdt, Tr[0,0], drdt)\n",
    "\n",
    "    for ksurf in range(0,ns):\n",
    "      if verbose: \n",
    "          print(\"ksurf: %d kl_left: %d ki_left: %d kl_right: %d ki_right: %d\" %\n",
    "               (ksurf, kl_left, ki_left, kl_right, ki_right))\n",
    "#       # Check to see if the layers we're searching are statically unstable\n",
    "#       if not stable_left[kl_left]:\n",
    "#         if ksurf > 0:\n",
    "#           PoL[ksurf] = PoL[ksurf-1]\n",
    "#           KoL[ksurf] = PoR[ksurf-1]\n",
    "#         else:\n",
    "#           PoL[ksurf] = 0.\n",
    "#           KoL[ksurf] = 0  \n",
    "\n",
    "      # Need to check the interfaces of each side to see which direction we should search\n",
    "      drho = calc_drho(Tr[kl_right,ki_right], drdt, Tl[kl_left,ki_left], drdt)\n",
    "      if verbose:\n",
    "          print(\"drho: %f Tl[%d,%d]: %f, Tr[%d,%d]: %f\" % (drho, kl_left,ki_left,Tl[kl_left,ki_left],\n",
    "                                                       kl_right,ki_right,Tr[kl_right,ki_right]))\n",
    "\n",
    "      if not reached_bottom:\n",
    "        if drho < 0:\n",
    "          if verbose:\n",
    "              print(\"drho < 0: Search left\")\n",
    "          searching_left_column  = True\n",
    "          searching_right_column = False\n",
    "        elif drho > 0:\n",
    "          if verbose:\n",
    "              print(\"drho > 0: Search right\")\n",
    "          searching_left_column  = False\n",
    "          searching_right_column = True\n",
    "        else:\n",
    "          if (kl_left == 0) and (kl_right == 0) and ((ki_left + ki_right) == 0):\n",
    "            if verbose:\n",
    "                print(\"drho = 0: At surface\")\n",
    "            searching_left_column  = True\n",
    "            searching_right_column = False\n",
    "          else:\n",
    "            if verbose:\n",
    "                print(\"drho = 0: Switch direction\")\n",
    "            searching_left_column  = not searching_left_column\n",
    "            searching_right_column = not searching_right_column\n",
    "\n",
    "      if searching_left_column:\n",
    "        # The position of the interface we're searching from is now known\n",
    "        PoR[ksurf] = ki_right\n",
    "        KoR[ksurf] = kl_right\n",
    "\n",
    "        # Figure out whether the layer is stable relative to the interface\n",
    "        T_ref = Tr[kl_right,ki_right]\n",
    "        drhotop = calc_drho(Tl[kl_left,0], drdt, T_ref, drdt)\n",
    "        drhobot = calc_drho(Tl[kl_left,1], drdt, T_ref, drdt)\n",
    "\n",
    "        KoL[ksurf] = kl_left\n",
    "        PoL[ksurf] = set_position(drhotop, drhobot, ki_right, ksurf)\n",
    "        # Check if we've reached the bottom, otherwise increment the interface/layer\n",
    "        kl_right, ki_right, searching_left_column, searching_right_column, reached_bottom =increment_interface(\n",
    "          kl_right,ki_right,searching_left_column,searching_right_column)        \n",
    "        point_left[ksurf] = True\n",
    "        if verbose:\n",
    "            print(\"\\tSearch left\")\n",
    "            print(\"\\t\\t Temp right: %f\" % T_ref)\n",
    "            print(\"\\t\\t Temp left top: %f\" % Tl[kl_left,0])\n",
    "            print(\"\\t\\t Temp left bot: %f\" % Tl[kl_left,1])\n",
    "            print(\"\\t\\t drhotop: %f drhobot: %f\" % (drhotop, drhobot))\n",
    "            print(\"\\t\\t PoL: %f\" % PoL[ksurf])\n",
    "\n",
    "      elif searching_right_column:\n",
    "        # The position of the interface we're searching from is now known\n",
    "        PoL[ksurf] = ki_left\n",
    "        KoL[ksurf] = kl_left\n",
    "\n",
    "        # Figure out whether the layer is stable relative to the interface\n",
    "        T_ref = Tl[kl_left,ki_left]\n",
    "        drhotop = calc_drho(Tr[kl_right,0], drdt, T_ref, drdt)\n",
    "        drhobot = calc_drho(Tr[kl_right,1], drdt, T_ref, drdt)\n",
    "        \n",
    "        KoR[ksurf] = kl_right\n",
    "        PoR[ksurf] = set_position(drhotop, drhobot, ki_left, ksurf)\n",
    "#         # Set the position on the left column\n",
    "#         if drhotop > 0. or ksurf == 0:\n",
    "#           PoR[ksurf] = 0.\n",
    "#         elif drhotop == 0. and drhobot == 0.:\n",
    "#           PoR[ksurf] = ki_left\n",
    "#         elif drhotop > drhobot:\n",
    "#           PoR[ksurf] = 1.\n",
    "#         elif drhotop < 0. and drhobot < 0.:\n",
    "#           PoR[ksurf] = 1.\n",
    "#         else:\n",
    "#           PoR[ksurf] = find_pos(drhotop,drhobot)\n",
    "#         KoR[ksurf] = kl_right\n",
    "\n",
    "        # Check if we've reached the bottom, otherwise increment the interface/layer\n",
    "# Check if we've reached the bottom, otherwise increment the interface/layer\n",
    "        kl_left, ki_left, searching_right_column, searching_left_column, reached_bottom = increment_interface(\n",
    "          kl_left,ki_left,searching_right_column,searching_left_column)\n",
    "        point_left[ksurf] = False\n",
    "        if verbose:\n",
    "            print(\"\\tSearch right\")\n",
    "            print(\"\\t\\t Temp left: %f\" % T_ref)\n",
    "            print(\"\\t\\t Temp right top: %f\" % Tr[kl_right,0])\n",
    "            print(\"\\t\\t Temp right bot: %f\" % Tr[kl_right,1])\n",
    "            print(\"\\t\\t drhotop: %f drhobot: %f\" % (drhotop, drhobot))\n",
    "            print(\"\\t\\t PoR: %f\" % PoR[ksurf])\n",
    "      else:\n",
    "        print(\"WAAAAAAAAA\")\n",
    "    return KoL, PoL, KoR, PoR, point_left"
   ]
  },
  {
   "cell_type": "code",
   "execution_count": 265,
   "metadata": {},
   "outputs": [],
   "source": [
    "def plot_surfaces(KoL, PoL, KoR, PoR, point_left, zl, zr, Tl, Tr, title):\n",
    "    plt.figure()\n",
    "    for ks in range(0,ns):\n",
    "      if point_left[ks] == 1.:\n",
    "        x0 = 0.25\n",
    "        y0 = abs_pos( zr, KoR[ks], PoR[ks] )\n",
    "        x1 = -0.25\n",
    "        y1 = abs_pos( zl, KoL[ks], PoL[ks] )\n",
    "        plt.text(x0+0.05,y0,ks)\n",
    "        plt.plot([x0,x1],[y0,y1],linestyle='-.',color='g')\n",
    "      else:\n",
    "        x0 = -0.25\n",
    "        y0 = abs_pos( zl, KoL[ks], PoL[ks] )\n",
    "        x1 = 0.25\n",
    "        y1 = abs_pos( zr, KoR[ks], PoR[ks] )\n",
    "        plt.text(x0-0.05,y0,ks)\n",
    "        plt.plot([x0,x1],[y0,y1],linestyle=':',color='c')\n",
    "      \n",
    "    plt.xlim((-1, 1.))\n",
    "    plt.ylim((-5, 35))\n",
    "    plt.gca().invert_yaxis()\n",
    "    plt.xticks([])\n",
    "    plt.yticks([])\n",
    "    plt.title(title)\n",
    "    \n",
    "    # Plot temperatures and interfaces\n",
    "    for k in range(0,Tl.shape[0]):\n",
    "      lline_x = [-0.8,-0.4]\n",
    "      rline_x = [0.4, 0.8]\n",
    "      toffset = 2\n",
    "      boffset = -1\n",
    "      plt.plot(lline_x,[zl[k,0],zl[k,0]],'k')\n",
    "      plt.plot(lline_x,[zl[k,1],zl[k,1]],'k')\n",
    "      plt.text(lline_x[0],zl[k,0]+toffset,'T=%d' % Tl[k,0])\n",
    "      plt.text(lline_x[0],zl[k,1]+boffset,'T=%d' % Tl[k,1])\n",
    "      \n",
    "      plt.plot(rline_x,[zr[k,0],zr[k,0]],'k')\n",
    "      plt.plot(rline_x,[zr[k,1],zr[k,1]],'k')\n",
    "      plt.text(rline_x[0],zr[k,0]+toffset,'T=%d' % Tr[k,0])\n",
    "      plt.text(rline_x[0],zr[k,1]+boffset,'T=%d' % Tr[k,1])"
   ]
  },
  {
   "cell_type": "code",
   "execution_count": 266,
   "metadata": {},
   "outputs": [],
   "source": [
    "def plot_test_case(Tl, Tr, zl, zr, drdt, title):\n",
    "  KoL, PoL, KoR, PoR, point_left = sorting_algorithm(Tl,Tr,zl,zr,drdt)\n",
    "  plot_surfaces( KoL, PoL, KoR, PoR, point_left, zl, zr, Tl, Tr, title)\n",
    "#   print(pd.DataFrame( {'KoL':KoL, 'KoR':KoR, 'PoL':PoL, 'PoR':PoR}))"
   ]
  },
  {
   "cell_type": "code",
   "execution_count": 267,
   "metadata": {},
   "outputs": [
    {
     "data": {
      "image/png": "[encoded data removed]",
      "text/plain": [
       "<matplotlib.figure.Figure at 0x7fd2e5ab25c0>"
      ]
     },
     "metadata": {},
     "output_type": "display_data"
    }
   ],
   "source": [
    "Tl[0,:] = [22,18]\n",
    "Tl[1,:] = [18,14]\n",
    "Tl[2,:] = [14,10]\n",
    "Tr[0,:] = [22,18]\n",
    "Tr[1,:] = [18,14]\n",
    "Tr[2,:] = [14,10]\n",
    "plot_test_case(Tl,Tr,zl,zr,drdt,'Identical Columns')"
   ]
  },
  {
   "cell_type": "code",
   "execution_count": 268,
   "metadata": {},
   "outputs": [
    {
     "data": {
      "image/png": "[encoded data removed]",
      "text/plain": [
       "<matplotlib.figure.Figure at 0x7fd2e5091320>"
      ]
     },
     "metadata": {},
     "output_type": "display_data"
    }
   ],
   "source": [
    "Tl[0,:] = [22,18]\n",
    "Tl[1,:] = [18,14]\n",
    "Tl[2,:] = [14,10]\n",
    "Tr[0,:] = [20,16]\n",
    "Tr[1,:] = [16,12]\n",
    "Tr[2,:] = [12,8]\n",
    "plot_test_case(Tl,Tr,zl,zr,drdt,'Right slightly cooler')"
   ]
  },
  {
   "cell_type": "code",
   "execution_count": 269,
   "metadata": {},
   "outputs": [
    {
     "data": {
      "image/png": "[encoded data removed]",
      "text/plain": [
       "<matplotlib.figure.Figure at 0x7fd2e4eeeda0>"
      ]
     },
     "metadata": {},
     "output_type": "display_data"
    }
   ],
   "source": [
    "Tl[0,:] = [20,16]\n",
    "Tl[1,:] = [16,12]\n",
    "Tl[2,:] = [12,8]\n",
    "Tr[0,:] = [22,18]\n",
    "Tr[1,:] = [18,14]\n",
    "Tr[2,:] = [14,10]\n",
    "plot_test_case(Tl,Tr,zl,zr,drdt,'Left slightly cooler')"
   ]
  },
  {
   "cell_type": "code",
   "execution_count": 270,
   "metadata": {},
   "outputs": [
    {
     "data": {
      "image/png": "[encoded data removed]",
      "text/plain": [
       "<matplotlib.figure.Figure at 0x7fd2e4c2d668>"
      ]
     },
     "metadata": {},
     "output_type": "display_data"
    }
   ],
   "source": [
    "Tl[0,:] = [22,18]\n",
    "Tl[1,:] = [18,14]\n",
    "Tl[2,:] = [14,10]\n",
    "Tr[0,:] = [14,14]\n",
    "Tr[1,:] = [14,14]\n",
    "Tr[2,:] = [12,8]\n",
    "plot_test_case(Tl,Tr,zl,zr,drdt,'Mixed layer on the right')"
   ]
  },
  {
   "cell_type": "code",
   "execution_count": 271,
   "metadata": {},
   "outputs": [
    {
     "data": {
      "image/png": "[encoded data removed]",
      "text/plain": [
       "<matplotlib.figure.Figure at 0x7fd2e4fa7630>"
      ]
     },
     "metadata": {},
     "output_type": "display_data"
    }
   ],
   "source": [
    "Tl[0,:] = [14,14]\n",
    "Tl[1,:] = [14,10]\n",
    "Tl[2,:] = [10,2]\n",
    "Tr[0,:] = [14,14]\n",
    "Tr[1,:] = [14,10]\n",
    "Tr[2,:] = [10,2]\n",
    "plot_test_case(Tl,Tr,zl,zr,drdt,'Identical columns with mixed layer')"
   ]
  },
  {
   "cell_type": "code",
   "execution_count": 272,
   "metadata": {},
   "outputs": [
    {
     "data": {
      "image/png": "[encoded data removed]",
      "text/plain": [
       "<matplotlib.figure.Figure at 0x7fd2e4b56588>"
      ]
     },
     "metadata": {},
     "output_type": "display_data"
    }
   ],
   "source": [
    "Tl[0,:] = [14,12]\n",
    "Tl[1,:] = [10,10]\n",
    "Tl[2,:] = [8,2]\n",
    "Tr[0,:] = [14,12]\n",
    "Tr[1,:] = [12,8]\n",
    "Tr[2,:] = [8,2]\n",
    "plot_test_case(Tl,Tr,zl,zr,drdt,'Left interior unstratified')"
   ]
  },
  {
   "cell_type": "code",
   "execution_count": null,
   "metadata": {},
   "outputs": [],
   "source": []
  },
  {
   "cell_type": "code",
   "execution_count": null,
   "metadata": {},
   "outputs": [],
   "source": []
  },
  {
   "cell_type": "code",
   "execution_count": null,
   "metadata": {},
   "outputs": [],
   "source": []
  }
 ],
 "metadata": {
  "kernelspec": {
   "display_name": "Python 3",
   "language": "python",
   "name": "python3"
  },
  "language_info": {
   "codemirror_mode": {
    "name": "ipython",
    "version": 3
   },
   "file_extension": ".py",
   "mimetype": "text/x-python",
   "name": "python",
   "nbconvert_exporter": "python",
   "pygments_lexer": "ipython3",
   "version": "3.6.3"
  }
 },
 "nbformat": 4,
 "nbformat_minor": 2
}
